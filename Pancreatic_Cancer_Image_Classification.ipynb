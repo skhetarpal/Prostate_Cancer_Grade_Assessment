{
 "cells": [
  {
   "cell_type": "code",
   "execution_count": 3,
   "metadata": {},
   "outputs": [
    {
     "name": "stdout",
     "output_type": "stream",
     "text": [
      "Requirement already up-to-date: efficientnet in /opt/conda/lib/python3.7/site-packages (1.1.0)\n",
      "Requirement already satisfied, skipping upgrade: keras-applications<=1.0.8,>=1.0.7 in /opt/conda/lib/python3.7/site-packages (from efficientnet) (1.0.8)\n",
      "Requirement already satisfied, skipping upgrade: scikit-image in /opt/conda/lib/python3.7/site-packages (from efficientnet) (0.17.2)\n",
      "Requirement already satisfied, skipping upgrade: h5py in /opt/conda/lib/python3.7/site-packages (from keras-applications<=1.0.8,>=1.0.7->efficientnet) (2.10.0)\n",
      "Requirement already satisfied, skipping upgrade: numpy>=1.9.1 in /opt/conda/lib/python3.7/site-packages (from keras-applications<=1.0.8,>=1.0.7->efficientnet) (1.18.5)\n",
      "Requirement already satisfied, skipping upgrade: scipy>=1.0.1 in /opt/conda/lib/python3.7/site-packages (from scikit-image->efficientnet) (1.4.1)\n",
      "Requirement already satisfied, skipping upgrade: matplotlib!=3.0.0,>=2.0.0 in /opt/conda/lib/python3.7/site-packages (from scikit-image->efficientnet) (3.2.1)\n",
      "Requirement already satisfied, skipping upgrade: networkx>=2.0 in /opt/conda/lib/python3.7/site-packages (from scikit-image->efficientnet) (2.4)\n",
      "Requirement already satisfied, skipping upgrade: pillow!=7.1.0,!=7.1.1,>=4.3.0 in /opt/conda/lib/python3.7/site-packages (from scikit-image->efficientnet) (7.1.2)\n",
      "Requirement already satisfied, skipping upgrade: imageio>=2.3.0 in /opt/conda/lib/python3.7/site-packages (from scikit-image->efficientnet) (2.8.0)\n",
      "Requirement already satisfied, skipping upgrade: tifffile>=2019.7.26 in /opt/conda/lib/python3.7/site-packages (from scikit-image->efficientnet) (2020.6.3)\n",
      "Requirement already satisfied, skipping upgrade: PyWavelets>=1.1.1 in /opt/conda/lib/python3.7/site-packages (from scikit-image->efficientnet) (1.1.1)\n",
      "Requirement already satisfied, skipping upgrade: six in /opt/conda/lib/python3.7/site-packages (from h5py->keras-applications<=1.0.8,>=1.0.7->efficientnet) (1.15.0)\n",
      "Requirement already satisfied, skipping upgrade: kiwisolver>=1.0.1 in /opt/conda/lib/python3.7/site-packages (from matplotlib!=3.0.0,>=2.0.0->scikit-image->efficientnet) (1.2.0)\n",
      "Requirement already satisfied, skipping upgrade: pyparsing!=2.0.4,!=2.1.2,!=2.1.6,>=2.0.1 in /opt/conda/lib/python3.7/site-packages (from matplotlib!=3.0.0,>=2.0.0->scikit-image->efficientnet) (2.4.7)\n",
      "Requirement already satisfied, skipping upgrade: cycler>=0.10 in /opt/conda/lib/python3.7/site-packages (from matplotlib!=3.0.0,>=2.0.0->scikit-image->efficientnet) (0.10.0)\n",
      "Requirement already satisfied, skipping upgrade: python-dateutil>=2.1 in /opt/conda/lib/python3.7/site-packages (from matplotlib!=3.0.0,>=2.0.0->scikit-image->efficientnet) (2.8.1)\n",
      "Requirement already satisfied, skipping upgrade: decorator>=4.3.0 in /opt/conda/lib/python3.7/site-packages (from networkx>=2.0->scikit-image->efficientnet) (4.4.2)\n"
     ]
    }
   ],
   "source": [
    "import numpy as np\n",
    "import pandas as pd\n",
    "import matplotlib.pyplot as plt\n",
    "import tensorflow as tf\n",
    "import os\n",
    "import skimage.io\n",
    "from sklearn.utils import shuffle\n",
    "from tensorflow.keras import Sequential\n",
    "from tensorflow.keras.layers import Conv2D, Dropout, MaxPool2D, Flatten, Dense\n",
    "# from keras_tqdm import TQDMNotebookCallback\n",
    "from tqdm import tqdm\n",
    "\n",
    "!pip install -U --pre efficientnet\n",
    "import efficientnet.tfkeras as efn"
   ]
  },
  {
   "cell_type": "code",
   "execution_count": 4,
   "metadata": {},
   "outputs": [
    {
     "name": "stdout",
     "output_type": "stream",
     "text": [
      "Num GPUs: 1 [PhysicalDevice(name='/physical_device:GPU:0', device_type='GPU')]\n"
     ]
    },
    {
     "data": {
      "text/html": [
       "<div>\n",
       "<style scoped>\n",
       "    .dataframe tbody tr th:only-of-type {\n",
       "        vertical-align: middle;\n",
       "    }\n",
       "\n",
       "    .dataframe tbody tr th {\n",
       "        vertical-align: top;\n",
       "    }\n",
       "\n",
       "    .dataframe thead th {\n",
       "        text-align: right;\n",
       "    }\n",
       "</style>\n",
       "<table border=\"1\" class=\"dataframe\">\n",
       "  <thead>\n",
       "    <tr style=\"text-align: right;\">\n",
       "      <th></th>\n",
       "      <th>Unnamed: 0</th>\n",
       "      <th>image_id</th>\n",
       "      <th>data_provider</th>\n",
       "      <th>isup_grade</th>\n",
       "      <th>gleason_score</th>\n",
       "    </tr>\n",
       "  </thead>\n",
       "  <tbody>\n",
       "    <tr>\n",
       "      <th>0</th>\n",
       "      <td>0</td>\n",
       "      <td>0005f7aaab2800f6170c399693a96917</td>\n",
       "      <td>karolinska</td>\n",
       "      <td>0</td>\n",
       "      <td>0+0</td>\n",
       "    </tr>\n",
       "    <tr>\n",
       "      <th>1</th>\n",
       "      <td>1</td>\n",
       "      <td>000920ad0b612851f8e01bcc880d9b3d</td>\n",
       "      <td>karolinska</td>\n",
       "      <td>0</td>\n",
       "      <td>0+0</td>\n",
       "    </tr>\n",
       "    <tr>\n",
       "      <th>2</th>\n",
       "      <td>2</td>\n",
       "      <td>0018ae58b01bdadc8e347995b69f99aa</td>\n",
       "      <td>radboud</td>\n",
       "      <td>4</td>\n",
       "      <td>4+4</td>\n",
       "    </tr>\n",
       "    <tr>\n",
       "      <th>3</th>\n",
       "      <td>3</td>\n",
       "      <td>001c62abd11fa4b57bf7a6c603a11bb9</td>\n",
       "      <td>karolinska</td>\n",
       "      <td>4</td>\n",
       "      <td>4+4</td>\n",
       "    </tr>\n",
       "    <tr>\n",
       "      <th>4</th>\n",
       "      <td>4</td>\n",
       "      <td>001d865e65ef5d2579c190a0e0350d8f</td>\n",
       "      <td>karolinska</td>\n",
       "      <td>0</td>\n",
       "      <td>0+0</td>\n",
       "    </tr>\n",
       "  </tbody>\n",
       "</table>\n",
       "</div>"
      ],
      "text/plain": [
       "   Unnamed: 0                          image_id data_provider  isup_grade  \\\n",
       "0           0  0005f7aaab2800f6170c399693a96917    karolinska           0   \n",
       "1           1  000920ad0b612851f8e01bcc880d9b3d    karolinska           0   \n",
       "2           2  0018ae58b01bdadc8e347995b69f99aa       radboud           4   \n",
       "3           3  001c62abd11fa4b57bf7a6c603a11bb9    karolinska           4   \n",
       "4           4  001d865e65ef5d2579c190a0e0350d8f    karolinska           0   \n",
       "\n",
       "  gleason_score  \n",
       "0           0+0  \n",
       "1           0+0  \n",
       "2           4+4  \n",
       "3           4+4  \n",
       "4           0+0  "
      ]
     },
     "execution_count": 4,
     "metadata": {},
     "output_type": "execute_result"
    }
   ],
   "source": [
    "print(\"Num GPUs:\", len(tf.config.list_physical_devices('GPU')), tf.config.list_physical_devices('GPU'))\n",
    "\n",
    "DF = pd.read_csv('/home/surajkhetarpal/Original_DF.csv')\n",
    "np.random.seed(31415)\n",
    "shuffle(DF).reset_index(drop=True, inplace=True)\n",
    "\n",
    "source_images_dir = '/home/surajkhetarpal/train_images/'\n",
    "\n",
    "tiles_dir = '/home/jupyter/panda/images'\n",
    "\n",
    "tile_size = 256\n",
    "num_tiles = 48\n",
    "channels = 3\n",
    "\n",
    "DF.head()"
   ]
  },
  {
   "cell_type": "code",
   "execution_count": 5,
   "metadata": {},
   "outputs": [
    {
     "data": {
      "image/png": "[encoded data removed]",
      "text/plain": [
       "<Figure size 432x288 with 1 Axes>"
      ]
     },
     "metadata": {
      "needs_background": "light"
     },
     "output_type": "display_data"
    }
   ],
   "source": [
    "image_id = DF.image_id.loc[0]\n",
    "label = DF.isup_grade.loc[0]\n",
    "image_file = f'{source_images_dir}{image_id}_1.jpeg'\n",
    "image = skimage.io.imread(image_file).astype(np.uint8)\n",
    "plt.imshow(image); plt.show()"
   ]
  },
  {
   "cell_type": "code",
   "execution_count": 3,
   "metadata": {},
   "outputs": [],
   "source": [
    "def add_padding(image, tile_size):\n",
    "    pad0 = (tile_size - image.shape[0]%tile_size)\n",
    "    pad1 = (tile_size - image.shape[1]%tile_size)\n",
    "    image = np.pad(image, ((pad0//2, pad0-pad0//2),(pad1//2, pad1-pad1//2), (0,0)), constant_values=255)\n",
    "    return image\n",
    "\n",
    "def create_tiles(image, tile_size, num_tiles):\n",
    "    padded_image = add_padding(image, tile_size)\n",
    "    num_vertical = int(padded_image.shape[0]/tile_size)\n",
    "    num_horizontal = int(padded_image.shape[1]/tile_size)\n",
    "    channels = padded_image.shape[2] if len(padded_image.shape) == 3 else 1\n",
    "    image_tiles = np.reshape(padded_image, (num_vertical, tile_size, num_horizontal, tile_size, channels))\n",
    "    image_tiles = np.transpose(image_tiles, (0,2,1,3,4))\n",
    "    shape = image_tiles.shape\n",
    "    image_tiles = np.reshape(image_tiles, (shape[0]*shape[1], shape[2], shape[3], shape[4]))\n",
    "    if len(image_tiles) < num_tiles:\n",
    "        image_tiles = np.pad(image_tiles, pad_width=((0,num_tiles-len(image_tiles)),(0,0),(0,0),(0,0)), constant_values=255)\n",
    "    image_tiles = image_tiles[image_tiles.sum(axis=(1,2,3)).argsort()[:num_tiles]]\n",
    "    return image_tiles\n",
    "\n",
    "def create_jpeg_tfrecords_file(filename, DF, source_images_dir, tile_size, num_tiles):\n",
    "    with tf.io.TFRecordWriter(filename) as file_writer:\n",
    "        for i in range(len(DF)):\n",
    "            image_id = DF.image_id.loc[i]\n",
    "            label = DF.isup_grade.loc[i]\n",
    "            image_file = f'{source_images_dir}{image_id}_1.jpeg'\n",
    "            image = skimage.io.imread(image_file).astype(np.uint8)\n",
    "            tiles = create_tiles(image, tile_size, num_tiles)\n",
    "            tiles_concatenated = tiles.reshape(num_tiles*tile_size, tile_size, tiles.shape[3])\n",
    "            tiles = tf.io.encode_jpeg(tiles_concatenated).numpy()\n",
    "            record_bytes = tf.train.Example(features=tf.train.Features(feature={\n",
    "                \"tiles\": tf.train.Feature(bytes_list=tf.train.BytesList(value=[tiles])),\n",
    "                \"label\": tf.train.Feature(int64_list=tf.train.Int64List(value=[label])),\n",
    "            })).SerializeToString()\n",
    "            file_writer.write(record_bytes)"
   ]
  },
  {
   "cell_type": "code",
   "execution_count": 4,
   "metadata": {},
   "outputs": [],
   "source": [
    "images_per_shard = 100\n",
    "train_shards_start = 0\n",
    "n_train_shards = 60\n",
    "val_shards_start = 80\n",
    "n_val_shards = 10\n",
    "\n",
    "# for i_shard in tqdm(range(train_shards_start, train_shards_start+n_train_shards)):\n",
    "#     shard_filename = '/home/jupyter/panda/tfrecord_shards/train/{:02d}_of_{:02d}.tfrecords'.format(i_shard, n_train_shards)\n",
    "#     shard_DF = DF.iloc[i_shard*images_per_shard : (i_shard+1)*images_per_shard].reset_index(drop=True)\n",
    "#     create_jpeg_tfrecords_file(shard_filename, shard_DF, source_images_dir, tile_size, num_tiles)\n",
    "\n",
    "# for i_shard in tqdm(range(val_shards_start, val_shards_start+n_val_shards)):\n",
    "#     shard_filename = '/home/jupyter/panda/tfrecord_shards/val/{:02d}_of_{:02d}.tfrecords'.format(i_shard-val_shards_start, n_val_shards)\n",
    "#     shard_DF = DF.iloc[i_shard*images_per_shard : (i_shard+1)*images_per_shard].reset_index(drop=True)\n",
    "#     create_jpeg_tfrecords_file(shard_filename, shard_DF, source_images_dir, tile_size, num_tiles)"
   ]
  },
  {
   "cell_type": "code",
   "execution_count": 5,
   "metadata": {},
   "outputs": [],
   "source": [
    "def augment(tiles):\n",
    "    return tiles\n",
    "\n",
    "def load_tfrecord(tfrecord):\n",
    "    features = {\"tiles\": tf.io.FixedLenFeature([], tf.string),\n",
    "                \"label\": tf.io.FixedLenFeature([], tf.int64)}\n",
    "    example = tf.io.parse_single_example(tfrecord, features = features)\n",
    "    tiles = tf.reshape(tf.io.decode_jpeg(example[\"tiles\"], channels=3), [num_tiles, tile_size, tile_size, channels])\n",
    "    tiles = tf.cast(tiles, dtype=tf.float32)/255.\n",
    "    label = example[\"label\"]\n",
    "    return tiles, label\n",
    "\n",
    "def create_pipeline(filenames):\n",
    "    dataset = tf.data.TFRecordDataset(filenames, num_parallel_reads=tf.data.experimental.AUTOTUNE)\n",
    "    dataset = dataset.map(load_tfrecord)\n",
    "    dataset = dataset.shuffle(buffer_size=2000, reshuffle_each_iteration=True)\n",
    "    dataset = dataset.batch(batch_size = 10, drop_remainder=True)\n",
    "    dataset = dataset.prefetch(buffer_size=tf.data.experimental.AUTOTUNE)\n",
    "    return dataset"
   ]
  },
  {
   "cell_type": "code",
   "execution_count": 6,
   "metadata": {},
   "outputs": [],
   "source": [
    "dir = '/home/jupyter/panda/tfrecord_shards/train'\n",
    "train_filenames = [os.path.join(dir, '{:02d}_of_60.tfrecords'.format(i)) for i in range(0, 60)]\n",
    "train_dataset = create_pipeline(train_filenames)\n",
    "val_filenames = [os.path.join(dir, '{:02d}_of_10.tfrecords'.format(i)) for i in range(0, 10)]\n",
    "val_dataset = create_pipeline(val_filenames)"
   ]
  },
  {
   "cell_type": "code",
   "execution_count": 7,
   "metadata": {},
   "outputs": [],
   "source": [
    "# for tiles, label in train_dataset.take(1):\n",
    "#     print(tiles.numpy().shape)\n",
    "#     img = tiles.numpy()[0]\n",
    "#     plt.imshow(img[10]); plt.show()"
   ]
  },
  {
   "cell_type": "code",
   "execution_count": 8,
   "metadata": {},
   "outputs": [],
   "source": [
    "class TilesNet(tf.keras.Model):\n",
    "\n",
    "    def __init__(self):\n",
    "        super(TilesNet, self).__init__()\n",
    "        \n",
    "        self.base_model = efn.EfficientNetB7(include_top=False, weights='imagenet', input_shape=(256,256,3))   \n",
    "        self.glob_pool2d = tf.keras.layers.GlobalAveragePooling2D()\n",
    "        self.dropout = tf.keras.layers.Dropout(0.25)\n",
    "        self.dense_1 = tf.keras.layers.Dense(64, activation='relu')\n",
    "        self.dense_2 = tf.keras.layers.Dense(1)\n",
    "\n",
    "    @tf.function\n",
    "    def call(self, inputs, **kwargs):\n",
    "        x = tf.reshape(inputs, (-1, tile_size, tile_size, 3))\n",
    "        x = self.base_model(x)\n",
    "        shape = x.shape\n",
    "        x = tf.reshape(x, (-1, num_tiles, shape[1], shape[2], shape[3])) \n",
    "        x = tf.transpose(x, perm=[0, 2, 1, 3, 4])\n",
    "        x = tf.reshape(x, (-1, shape[1], num_tiles*shape[2], shape[3])) \n",
    "        x = self.glob_pool2d(x)\n",
    "        x = self.dropout(x)\n",
    "        x = self.dense_1(x)\n",
    "        return self.dense_2(x)"
   ]
  },
  {
   "cell_type": "code",
   "execution_count": 1,
   "metadata": {},
   "outputs": [],
   "source": [
    "model = TilesNet()\n",
    "model.compile(loss='mean_squared_error', optimizer='adam', metrics=['accuracy'])\n",
    "\n",
    "history = model.fit(train_dataset, epochs=3, verbose=1, validation_data=val_dataset)\n",
    "plt.plot(history.history[\"val_loss\"])\n",
    "model.save('/home/jupyter/panda/model1.h5')"
   ]
  },
  {
   "cell_type": "code",
   "execution_count": null,
   "metadata": {},
   "outputs": [],
   "source": []
  }
 ],
 "metadata": {
  "environment": {
   "name": "tf2-2-2-gpu.2-2.m49",
   "type": "gcloud",
   "uri": "gcr.io/deeplearning-platform-release/tf2-2-2-gpu.2-2:m49"
  },
  "kernelspec": {
   "display_name": "Python 3",
   "language": "python",
   "name": "python3"
  },
  "language_info": {
   "codemirror_mode": {
    "name": "ipython",
    "version": 3
   },
   "file_extension": ".py",
   "mimetype": "text/x-python",
   "name": "python",
   "nbconvert_exporter": "python",
   "pygments_lexer": "ipython3",
   "version": "3.7.6"
  }
 },
 "nbformat": 4,
 "nbformat_minor": 4
}
